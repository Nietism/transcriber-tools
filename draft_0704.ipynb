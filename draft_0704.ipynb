{
 "cells": [
  {
   "cell_type": "code",
   "execution_count": 1,
   "id": "caa70f17-6292-4ca6-a8d3-9512c84b6215",
   "metadata": {
    "execution": {
     "iopub.execute_input": "2022-07-04T10:38:22.237442Z",
     "iopub.status.busy": "2022-07-04T10:38:22.237178Z",
     "iopub.status.idle": "2022-07-04T10:38:22.240949Z",
     "shell.execute_reply": "2022-07-04T10:38:22.240236Z",
     "shell.execute_reply.started": "2022-07-04T10:38:22.237418Z"
    },
    "scrolled": true,
    "tags": []
   },
   "outputs": [],
   "source": [
    "# !pip install paddlespeech -i https://pypi.tuna.tsinghua.edu.cn/simple"
   ]
  },
  {
   "cell_type": "code",
   "execution_count": 2,
   "id": "cde315cf-53bb-4b00-a3aa-8679f1557f35",
   "metadata": {
    "execution": {
     "iopub.execute_input": "2022-07-04T10:38:22.242199Z",
     "iopub.status.busy": "2022-07-04T10:38:22.241845Z",
     "iopub.status.idle": "2022-07-04T10:38:22.312977Z",
     "shell.execute_reply": "2022-07-04T10:38:22.257236Z",
     "shell.execute_reply.started": "2022-07-04T10:38:22.242171Z"
    },
    "scrolled": true,
    "tags": []
   },
   "outputs": [
    {
     "data": {
      "text/plain": [
       "'1.0.1'"
      ]
     },
     "execution_count": 2,
     "metadata": {},
     "output_type": "execute_result"
    }
   ],
   "source": [
    "import paddlespeech\n",
    "\n",
    "paddlespeech.__version__"
   ]
  },
  {
   "cell_type": "code",
   "execution_count": 3,
   "id": "62b62026-d4b5-4b39-90c1-7f491ee6383d",
   "metadata": {
    "execution": {
     "iopub.execute_input": "2022-07-04T10:38:22.315830Z",
     "iopub.status.busy": "2022-07-04T10:38:22.315049Z",
     "iopub.status.idle": "2022-07-04T10:38:31.288083Z",
     "shell.execute_reply": "2022-07-04T10:38:31.286886Z",
     "shell.execute_reply.started": "2022-07-04T10:38:22.315788Z"
    },
    "scrolled": true,
    "tags": []
   },
   "outputs": [
    {
     "name": "stderr",
     "output_type": "stream",
     "text": [
      "/opt/conda/envs/python35-paddle120-env/lib/python3.7/site-packages/numba/types/__init__.py:110: DeprecationWarning: `np.long` is a deprecated alias for `np.compat.long`. To silence this warning, use `np.compat.long` by itself. In the likely event your code does not need to work on Python 2 you can use the builtin `int` for which `np.compat.long` is itself an alias. Doing this will not modify any behaviour and is safe. When replacing `np.long`, you may wish to use e.g. `np.int64` or `np.int32` to specify the precision. If you wish to review your current use, check the release note link for additional information.\n",
      "Deprecated in NumPy 1.20; for more details and guidance: https://numpy.org/devdocs/release/1.20.0-notes.html#deprecations\n",
      "  long_ = _make_signed(np.long)\n",
      "/opt/conda/envs/python35-paddle120-env/lib/python3.7/site-packages/numba/types/__init__.py:111: DeprecationWarning: `np.long` is a deprecated alias for `np.compat.long`. To silence this warning, use `np.compat.long` by itself. In the likely event your code does not need to work on Python 2 you can use the builtin `int` for which `np.compat.long` is itself an alias. Doing this will not modify any behaviour and is safe. When replacing `np.long`, you may wish to use e.g. `np.int64` or `np.int32` to specify the precision. If you wish to review your current use, check the release note link for additional information.\n",
      "Deprecated in NumPy 1.20; for more details and guidance: https://numpy.org/devdocs/release/1.20.0-notes.html#deprecations\n",
      "  ulong = _make_unsigned(np.long)\n",
      "/opt/conda/envs/python35-paddle120-env/lib/python3.7/site-packages/librosa/core/constantq.py:1059: DeprecationWarning: `np.complex` is a deprecated alias for the builtin `complex`. To silence this warning, use `complex` by itself. Doing this will not modify any behavior and is safe. If you specifically wanted the numpy scalar type, use `np.complex128` here.\n",
      "Deprecated in NumPy 1.20; for more details and guidance: https://numpy.org/devdocs/release/1.20.0-notes.html#deprecations\n",
      "  dtype=np.complex,\n",
      "/opt/conda/envs/python35-paddle120-env/lib/python3.7/site-packages/nltk/decorators.py:68: DeprecationWarning: `formatargspec` is deprecated since Python 3.5. Use `signature` and the `Signature` object directly\n",
      "  regargs, varargs, varkwargs, defaults, formatvalue=lambda value: \"\"\n",
      "/opt/conda/envs/python35-paddle120-env/lib/python3.7/site-packages/nltk/lm/counter.py:15: DeprecationWarning: Using or importing the ABCs from 'collections' instead of from 'collections.abc' is deprecated, and in 3.8 it will stop working\n",
      "  from collections import Sequence, defaultdict\n",
      "/opt/conda/envs/python35-paddle120-env/lib/python3.7/site-packages/nltk/lm/vocabulary.py:13: DeprecationWarning: Using or importing the ABCs from 'collections' instead of from 'collections.abc' is deprecated, and in 3.8 it will stop working\n",
      "  from collections import Counter, Iterable\n",
      "/opt/conda/envs/python35-paddle120-env/lib/python3.7/site-packages/matplotlib/__init__.py:107: DeprecationWarning: Using or importing the ABCs from 'collections' instead of from 'collections.abc' is deprecated, and in 3.8 it will stop working\n",
      "  from collections import MutableMapping\n",
      "/opt/conda/envs/python35-paddle120-env/lib/python3.7/site-packages/matplotlib/rcsetup.py:20: DeprecationWarning: Using or importing the ABCs from 'collections' instead of from 'collections.abc' is deprecated, and in 3.8 it will stop working\n",
      "  from collections import Iterable, Mapping\n",
      "/opt/conda/envs/python35-paddle120-env/lib/python3.7/site-packages/matplotlib/colors.py:53: DeprecationWarning: Using or importing the ABCs from 'collections' instead of from 'collections.abc' is deprecated, and in 3.8 it will stop working\n",
      "  from collections import Sized\n"
     ]
    }
   ],
   "source": [
    "import paddle\n",
    "from paddlespeech.cli import ASRExecutor, TextExecutor\n",
    "\n",
    "import warnings\n",
    "warnings.filterwarnings('ignore')\n",
    "\n",
    "asr_executor = ASRExecutor()\n",
    "text_executor = TextExecutor()"
   ]
  },
  {
   "cell_type": "code",
   "execution_count": 4,
   "id": "b731c52d-29c3-4abd-a401-34ff43e85a35",
   "metadata": {
    "execution": {
     "iopub.execute_input": "2022-07-04T10:38:31.290955Z",
     "iopub.status.busy": "2022-07-04T10:38:31.289887Z",
     "iopub.status.idle": "2022-07-04T10:38:32.124310Z",
     "shell.execute_reply": "2022-07-04T10:38:32.122502Z",
     "shell.execute_reply.started": "2022-07-04T10:38:31.290919Z"
    },
    "scrolled": true,
    "tags": []
   },
   "outputs": [
    {
     "name": "stderr",
     "output_type": "stream",
     "text": [
      "[2022-07-04 18:38:32,106] [    INFO] - checking the audio file format......\n",
      "[2022-07-04 18:38:32,119] [   ERROR] - Please input audio file less then 50 seconds.\n",
      "\n"
     ]
    },
    {
     "ename": "SystemExit",
     "evalue": "-1",
     "output_type": "error",
     "traceback": [
      "An exception has occurred, use %tb to see the full traceback.\n",
      "\u001b[0;31mSystemExit\u001b[0m\u001b[0;31m:\u001b[0m -1\n"
     ]
    }
   ],
   "source": [
    "text = asr_executor(\n",
    "    audio_file='./SXY.wav',\n",
    "    device=paddle.get_device())\n",
    "\n",
    "result = text_executor(\n",
    "    text=text,\n",
    "    task='punc',\n",
    "    model='ernie_linear_p3_wudao',\n",
    "    device=paddle.get_device())\n",
    "\n",
    "print(result)\n",
    "\n"
   ]
  },
  {
   "cell_type": "code",
   "execution_count": null,
   "id": "71e6a6f9-5810-41d1-82e5-eb3fc0805206",
   "metadata": {
    "scrolled": true,
    "tags": []
   },
   "outputs": [],
   "source": []
  },
  {
   "cell_type": "code",
   "execution_count": null,
   "id": "f968a8ed-09aa-49c3-919f-1574afa39908",
   "metadata": {
    "scrolled": true
   },
   "outputs": [],
   "source": []
  },
  {
   "cell_type": "code",
   "execution_count": null,
   "id": "51dd751b-fc7a-4698-8eaa-3068ee03e3a4",
   "metadata": {
    "scrolled": true
   },
   "outputs": [],
   "source": []
  }
 ],
 "metadata": {
  "kernelspec": {
   "display_name": "Python 3",
   "language": "python",
   "name": "py35-paddle1.2.0"
  },
  "language_info": {
   "codemirror_mode": {
    "name": "ipython",
    "version": 3
   },
   "file_extension": ".py",
   "mimetype": "text/x-python",
   "name": "python",
   "nbconvert_exporter": "python",
   "pygments_lexer": "ipython3",
   "version": "3.7.4"
  }
 },
 "nbformat": 4,
 "nbformat_minor": 5
}
